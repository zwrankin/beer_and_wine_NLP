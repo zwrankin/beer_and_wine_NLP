{
 "cells": [
  {
   "cell_type": "markdown",
   "metadata": {},
   "source": [
    "# Markov generation of wine reviews\n",
    "\n",
    "## TODO\n",
    "- Start with capital\n",
    "- End with period. "
   ]
  },
  {
   "cell_type": "code",
   "execution_count": 1,
   "metadata": {},
   "outputs": [],
   "source": [
    "import numpy as np \n",
    "import pandas as pd \n",
    "\n",
    "import random\n",
    "import re \n",
    "import string\n",
    "\n",
    "import matplotlib.pyplot as plt\n",
    "import seaborn as sns\n",
    "% matplotlib inline"
   ]
  },
  {
   "cell_type": "code",
   "execution_count": 2,
   "metadata": {},
   "outputs": [
    {
     "data": {
      "text/html": [
       "<div>\n",
       "<style scoped>\n",
       "    .dataframe tbody tr th:only-of-type {\n",
       "        vertical-align: middle;\n",
       "    }\n",
       "\n",
       "    .dataframe tbody tr th {\n",
       "        vertical-align: top;\n",
       "    }\n",
       "\n",
       "    .dataframe thead th {\n",
       "        text-align: right;\n",
       "    }\n",
       "</style>\n",
       "<table border=\"1\" class=\"dataframe\">\n",
       "  <thead>\n",
       "    <tr style=\"text-align: right;\">\n",
       "      <th></th>\n",
       "      <th>Unnamed: 0</th>\n",
       "      <th>country</th>\n",
       "      <th>description</th>\n",
       "      <th>designation</th>\n",
       "      <th>points</th>\n",
       "      <th>price</th>\n",
       "      <th>province</th>\n",
       "      <th>region_1</th>\n",
       "      <th>region_2</th>\n",
       "      <th>variety</th>\n",
       "      <th>winery</th>\n",
       "    </tr>\n",
       "  </thead>\n",
       "  <tbody>\n",
       "    <tr>\n",
       "      <th>0</th>\n",
       "      <td>0</td>\n",
       "      <td>US</td>\n",
       "      <td>This tremendous 100% varietal wine hails from ...</td>\n",
       "      <td>Martha's Vineyard</td>\n",
       "      <td>96</td>\n",
       "      <td>235.0</td>\n",
       "      <td>California</td>\n",
       "      <td>Napa Valley</td>\n",
       "      <td>Napa</td>\n",
       "      <td>Cabernet Sauvignon</td>\n",
       "      <td>Heitz</td>\n",
       "    </tr>\n",
       "    <tr>\n",
       "      <th>1</th>\n",
       "      <td>1</td>\n",
       "      <td>Spain</td>\n",
       "      <td>Ripe aromas of fig, blackberry and cassis are ...</td>\n",
       "      <td>Carodorum Selección Especial Reserva</td>\n",
       "      <td>96</td>\n",
       "      <td>110.0</td>\n",
       "      <td>Northern Spain</td>\n",
       "      <td>Toro</td>\n",
       "      <td>NaN</td>\n",
       "      <td>Tinta de Toro</td>\n",
       "      <td>Bodega Carmen Rodríguez</td>\n",
       "    </tr>\n",
       "    <tr>\n",
       "      <th>2</th>\n",
       "      <td>2</td>\n",
       "      <td>US</td>\n",
       "      <td>Mac Watson honors the memory of a wine once ma...</td>\n",
       "      <td>Special Selected Late Harvest</td>\n",
       "      <td>96</td>\n",
       "      <td>90.0</td>\n",
       "      <td>California</td>\n",
       "      <td>Knights Valley</td>\n",
       "      <td>Sonoma</td>\n",
       "      <td>Sauvignon Blanc</td>\n",
       "      <td>Macauley</td>\n",
       "    </tr>\n",
       "    <tr>\n",
       "      <th>3</th>\n",
       "      <td>3</td>\n",
       "      <td>US</td>\n",
       "      <td>This spent 20 months in 30% new French oak, an...</td>\n",
       "      <td>Reserve</td>\n",
       "      <td>96</td>\n",
       "      <td>65.0</td>\n",
       "      <td>Oregon</td>\n",
       "      <td>Willamette Valley</td>\n",
       "      <td>Willamette Valley</td>\n",
       "      <td>Pinot Noir</td>\n",
       "      <td>Ponzi</td>\n",
       "    </tr>\n",
       "    <tr>\n",
       "      <th>4</th>\n",
       "      <td>4</td>\n",
       "      <td>France</td>\n",
       "      <td>This is the top wine from La Bégude, named aft...</td>\n",
       "      <td>La Brûlade</td>\n",
       "      <td>95</td>\n",
       "      <td>66.0</td>\n",
       "      <td>Provence</td>\n",
       "      <td>Bandol</td>\n",
       "      <td>NaN</td>\n",
       "      <td>Provence red blend</td>\n",
       "      <td>Domaine de la Bégude</td>\n",
       "    </tr>\n",
       "  </tbody>\n",
       "</table>\n",
       "</div>"
      ],
      "text/plain": [
       "   Unnamed: 0 country                                        description  \\\n",
       "0           0      US  This tremendous 100% varietal wine hails from ...   \n",
       "1           1   Spain  Ripe aromas of fig, blackberry and cassis are ...   \n",
       "2           2      US  Mac Watson honors the memory of a wine once ma...   \n",
       "3           3      US  This spent 20 months in 30% new French oak, an...   \n",
       "4           4  France  This is the top wine from La Bégude, named aft...   \n",
       "\n",
       "                            designation  points  price        province  \\\n",
       "0                     Martha's Vineyard      96  235.0      California   \n",
       "1  Carodorum Selección Especial Reserva      96  110.0  Northern Spain   \n",
       "2         Special Selected Late Harvest      96   90.0      California   \n",
       "3                               Reserve      96   65.0          Oregon   \n",
       "4                            La Brûlade      95   66.0        Provence   \n",
       "\n",
       "            region_1           region_2             variety  \\\n",
       "0        Napa Valley               Napa  Cabernet Sauvignon   \n",
       "1               Toro                NaN       Tinta de Toro   \n",
       "2     Knights Valley             Sonoma     Sauvignon Blanc   \n",
       "3  Willamette Valley  Willamette Valley          Pinot Noir   \n",
       "4             Bandol                NaN  Provence red blend   \n",
       "\n",
       "                    winery  \n",
       "0                    Heitz  \n",
       "1  Bodega Carmen Rodríguez  \n",
       "2                 Macauley  \n",
       "3                    Ponzi  \n",
       "4     Domaine de la Bégude  "
      ]
     },
     "execution_count": 2,
     "metadata": {},
     "output_type": "execute_result"
    }
   ],
   "source": [
    "df = pd.read_csv('../input/winemag-data_first150k.csv')\n",
    "df.head()"
   ]
  },
  {
   "cell_type": "code",
   "execution_count": 3,
   "metadata": {},
   "outputs": [],
   "source": [
    "# add some relevant data\n",
    "df['description_length'] = df.description.apply(lambda x: len(re.findall(\"(\\S+)\", x)))"
   ]
  },
  {
   "cell_type": "code",
   "execution_count": 4,
   "metadata": {},
   "outputs": [
    {
     "data": {
      "text/plain": [
       "<matplotlib.axes._subplots.AxesSubplot at 0x1b4cc4ed588>"
      ]
     },
     "execution_count": 4,
     "metadata": {},
     "output_type": "execute_result"
    },
    {
     "data": {
      "image/png": "[encoded data removed]",
      "text/plain": [
       "<Figure size 432x288 with 1 Axes>"
      ]
     },
     "metadata": {
      "needs_background": "light"
     },
     "output_type": "display_data"
    }
   ],
   "source": [
    "df.description_length.plot.kde()"
   ]
  },
  {
   "cell_type": "code",
   "execution_count": 5,
   "metadata": {},
   "outputs": [
    {
     "data": {
      "text/plain": [
       "<matplotlib.axes._subplots.AxesSubplot at 0x1b4cc81a710>"
      ]
     },
     "execution_count": 5,
     "metadata": {},
     "output_type": "execute_result"
    },
    {
     "data": {
      "image/png": "[encoded data removed]",
      "text/plain": [
       "<Figure size 432x288 with 2 Axes>"
      ]
     },
     "metadata": {
      "needs_background": "light"
     },
     "output_type": "display_data"
    }
   ],
   "source": [
    "df.plot.hexbin('description_length', 'points', gridsize=20)"
   ]
  },
  {
   "cell_type": "code",
   "execution_count": 6,
   "metadata": {},
   "outputs": [
    {
     "data": {
      "text/plain": [
       "'This tremendous 100% varietal wine hails from Oakville and was aged over three years in oak. Juicy red-cherry fruit and a compelling hint of caramel greet the palate, framed by elegant, fine tannins and a subtle minty tone in the background. Balanced and rewarding from start to finish, it has years ahead of it to develop further nuance. Enjoy 2022–2030.'"
      ]
     },
     "execution_count": 6,
     "metadata": {},
     "output_type": "execute_result"
    }
   ],
   "source": [
    "df.description[0]"
   ]
  },
  {
   "cell_type": "code",
   "execution_count": 7,
   "metadata": {},
   "outputs": [
    {
     "data": {
      "text/plain": [
       "['This',\n",
       " 'tremendous',\n",
       " '100%',\n",
       " 'varietal',\n",
       " 'wine',\n",
       " 'hails',\n",
       " 'from',\n",
       " 'Oakville',\n",
       " 'and',\n",
       " 'was',\n",
       " 'aged',\n",
       " 'over',\n",
       " 'three',\n",
       " 'years',\n",
       " 'in',\n",
       " 'oak.',\n",
       " 'Juicy',\n",
       " 'red-cherry',\n",
       " 'fruit',\n",
       " 'and']"
      ]
     },
     "execution_count": 7,
     "metadata": {},
     "output_type": "execute_result"
    }
   ],
   "source": [
    "# Note: df.description[:10].to_string() only gives a string representation, not the full string\n",
    "descriptions = ''\n",
    "for i in range(0, 500):\n",
    "    descriptions += f'{df.description[i]} '\n",
    "\n",
    "# Not sure if it's better to remove non-strings (e.g. 100%), for now don't\n",
    "# ALSO, leaving in punctuation is actually pretty fun\n",
    "# description_words = ''.join([x + '' for x in descriptions if x in string.ascii_letters  + '\\'- '])\n",
    "description_words = descriptions\n",
    "\n",
    "words = description_words.split(\" \")\n",
    "words[:20]"
   ]
  },
  {
   "cell_type": "code",
   "execution_count": 8,
   "metadata": {},
   "outputs": [
    {
     "data": {
      "text/plain": [
       "13799"
      ]
     },
     "execution_count": 8,
     "metadata": {},
     "output_type": "execute_result"
    }
   ],
   "source": [
    "prefix = {}\n",
    "for i in range(len(words)-2):\n",
    "    if (words[i], words[i+1]) not in prefix:\n",
    "        prefix[(words[i], words[i+1])] = []\n",
    "    prefix[(words[i], words[i+1])].append(words[i+2])\n",
    "    \n",
    "len(prefix)"
   ]
  },
  {
   "cell_type": "code",
   "execution_count": 9,
   "metadata": {},
   "outputs": [
    {
     "data": {
      "text/plain": [
       "'Too elegant for some palates, it shows the intensity of fruit from 14 different parcels. It is dark and chewy, this builds upon substantial black-cherry fruit anchors this barrel-aged wine that will develop quickly. It is aged in Stainless steel, this racy and pungent earth scents, remaining savory at its core. Medium-bodied and balanced with soft tannins and tart cherry. The tannins are right to the palate into the lasting finish, which is lightly toasted and dense black fruits are chocolaty and well oaked. Raw heat and minty, coffee flavors rev up the finish. Dried cranberry and cherry flavors that'"
      ]
     },
     "execution_count": 9,
     "metadata": {},
     "output_type": "execute_result"
    }
   ],
   "source": [
    "random.seed(10)\n",
    "\n",
    "num_words = 100\n",
    "current_pair = random.choice(list(prefix.keys())) \n",
    "random_text = current_pair[0] + ' ' + current_pair[1]\n",
    "\n",
    "for i in range(num_words-2):\n",
    "    # last two words in document may not have a suffix\n",
    "    if current_pair not in prefix:\n",
    "        break\n",
    "    next = random.choice(prefix[current_pair])\n",
    "    random_text = random_text + ' ' + next\n",
    "    current_pair = (current_pair[1], next)\n",
    "    \n",
    "random_text"
   ]
  },
  {
   "cell_type": "markdown",
   "metadata": {},
   "source": [
    "## Okay, let's choose 5 random descriptions then 5 fake reviews"
   ]
  },
  {
   "cell_type": "code",
   "execution_count": 10,
   "metadata": {},
   "outputs": [
    {
     "name": "stdout",
     "output_type": "stream",
     "text": [
      "RANDOM REVIEW 0\n",
      "Made entirely from Nero d'Avola, this opens with black-skinned berry, freshly turned soil and cooking spice aromas. The soft, juicy palate offers blackberry, carob and clove flavors while rounded tannins lend a smooth texture. Enjoy through 2019.\n",
      "RANDOM REVIEW 1\n",
      "The color and aromas are true to both Pinot Noir and Chile's Pinot-friendly Casablanca Valley. Dried fruit, citrus and pie cherry aromas take it toward a potpourri of red-fruit flavors. The only weakness is that the feel is a bit choppy and the finish goes heavy on the toast and woodspice. A good but imperfect effort at a more serious Chilean Pinot.\n",
      "RANDOM REVIEW 2\n",
      "Old-gold in color, this wine has concentrated flavors with an almost medicinal intensity. Old wood and acidity form a dominant element along with a note of orange peel. A memorable wine for savoring.\n",
      "RANDOM REVIEW 3\n",
      "This is a strong, oaky, ripe Chardonnay, grown on a mountain better known for Cabernet. It's powerful and intense in pineapple tart, pear marmalade, Meyer lemon and lime flavors that have been liberally oaked, and it shows the creamy influence of lees. Not particularly subtle, it's a wine you don't want to drink too cold.\n",
      "RANDOM REVIEW 4\n",
      "The aromas seem a bit muddled, with notes of jasmine and pear occasionally poking through and the alcohol showing itself. It's medium sweet (2.7% residual sugar) finishing a touch bitter.\n"
     ]
    }
   ],
   "source": [
    "for i in range(0,5):\n",
    "    print(f'RANDOM REVIEW {i}')\n",
    "    row = df.sample(random_state=i)\n",
    "    print(row.description.values[0])"
   ]
  },
  {
   "cell_type": "code",
   "execution_count": 14,
   "metadata": {},
   "outputs": [
    {
     "name": "stdout",
     "output_type": "stream",
     "text": [
      "SETTING SEED 0\n",
      "new-wood flavors. It is all fruit, generous and delicious. The huge fruit flavors give a wine that's black-purple in color, showing some bricking. It drinks full bodied and dry, but with a phenolic, almost creamy feel. Wiry aromas of vanilla cookie are offset by crisp acidity.\n",
      "SETTING SEED 1\n",
      "pepper, clove and licorice alongside fine-grained tannins. A perfect steakhouse Cabernet. Structured and energetic, this has a full, almost Burgundian feel. Ripe peach combines with vanilla to make this medium-bodied wine, which finds its way to the finish is\n",
      "SETTING SEED 2\n",
      "the Loire river. The aromas that recall honeysuckle, lily of the few in California and Oregon. This tart, juicy, and deliciously fresh effort is loaded with dark chocolate and full-bodied weight push the finish is showing unabsorbed oak and char come up, and the finish is fruity and generous. Bright orange juice, dill herbs and red fruit. This contrasts with the heat of alcohol on the palate is marked by beef char and cooked black\n",
      "SETTING SEED 3\n",
      "by notes of coffee, smoke, black fruits, vanilla, tobacco, orange peel and crisp wild strawberry and white flowers. It drinks dry with rounded suggestions of cherry and leather notes into a smooth-as-silk midpalate. The berry/cherry\n",
      "SETTING SEED 4\n",
      "grilled fish and salads. Peach, pear and melon fruit in the glass on this firmly structured wine. It has attractive bright acidity and moderate tannins. Aromas of underbrush, charred earth, truffle, star anise drive the spicy, polished palate. Firm but refined tannins. Drink 2016 to 2021. From one of\n"
     ]
    }
   ],
   "source": [
    "for i in range(0,5):\n",
    "    print(f'SETTING SEED {i}')\n",
    "    random.seed(i)\n",
    "    \n",
    "    num_words = random.choice(df.description_length)\n",
    "\n",
    "    current_pair = random.choice(list(prefix.keys())) \n",
    "    random_text = current_pair[0] + ' ' + current_pair[1]\n",
    "\n",
    "    for i in range(num_words-2):\n",
    "        # last two words in document may not have a suffix\n",
    "        if current_pair not in prefix:\n",
    "            break\n",
    "        next = random.choice(prefix[current_pair])\n",
    "        random_text = random_text + ' ' + next\n",
    "        current_pair = (current_pair[1], next)\n",
    "\n",
    "    print(random_text)"
   ]
  },
  {
   "cell_type": "code",
   "execution_count": null,
   "metadata": {},
   "outputs": [],
   "source": []
  }
 ],
 "metadata": {
  "kernelspec": {
   "display_name": "Python 3",
   "language": "python",
   "name": "python3"
  },
  "language_info": {
   "codemirror_mode": {
    "name": "ipython",
    "version": 3
   },
   "file_extension": ".py",
   "mimetype": "text/x-python",
   "name": "python",
   "nbconvert_exporter": "python",
   "pygments_lexer": "ipython3",
   "version": "3.6.6"
  }
 },
 "nbformat": 4,
 "nbformat_minor": 2
}
