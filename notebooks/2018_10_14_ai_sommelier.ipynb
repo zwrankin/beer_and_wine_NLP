{
 "cells": [
  {
   "cell_type": "markdown",
   "metadata": {},
   "source": [
    "# Markov generation of wine reviews\n",
    "\n",
    "## Questions: \n",
    "- Is it rendering properly in github? \n",
    "\n",
    "## TODO\n",
    "- App to choose real or fake"
   ]
  },
  {
   "cell_type": "code",
   "execution_count": 1,
   "metadata": {},
   "outputs": [],
   "source": [
    "import numpy as np \n",
    "import pandas as pd \n",
    "\n",
    "import random\n",
    "import re \n",
    "import string\n",
    "\n",
    "import matplotlib.pyplot as plt\n",
    "import seaborn as sns\n",
    "% matplotlib inline"
   ]
  },
  {
   "cell_type": "code",
   "execution_count": 2,
   "metadata": {},
   "outputs": [
    {
     "data": {
      "text/html": [
       "<div>\n",
       "<style scoped>\n",
       "    .dataframe tbody tr th:only-of-type {\n",
       "        vertical-align: middle;\n",
       "    }\n",
       "\n",
       "    .dataframe tbody tr th {\n",
       "        vertical-align: top;\n",
       "    }\n",
       "\n",
       "    .dataframe thead th {\n",
       "        text-align: right;\n",
       "    }\n",
       "</style>\n",
       "<table border=\"1\" class=\"dataframe\">\n",
       "  <thead>\n",
       "    <tr style=\"text-align: right;\">\n",
       "      <th></th>\n",
       "      <th>Unnamed: 0</th>\n",
       "      <th>country</th>\n",
       "      <th>description</th>\n",
       "      <th>designation</th>\n",
       "      <th>points</th>\n",
       "      <th>price</th>\n",
       "      <th>province</th>\n",
       "      <th>region_1</th>\n",
       "      <th>region_2</th>\n",
       "      <th>variety</th>\n",
       "      <th>winery</th>\n",
       "    </tr>\n",
       "  </thead>\n",
       "  <tbody>\n",
       "    <tr>\n",
       "      <th>0</th>\n",
       "      <td>0</td>\n",
       "      <td>US</td>\n",
       "      <td>This tremendous 100% varietal wine hails from ...</td>\n",
       "      <td>Martha's Vineyard</td>\n",
       "      <td>96</td>\n",
       "      <td>235.0</td>\n",
       "      <td>California</td>\n",
       "      <td>Napa Valley</td>\n",
       "      <td>Napa</td>\n",
       "      <td>Cabernet Sauvignon</td>\n",
       "      <td>Heitz</td>\n",
       "    </tr>\n",
       "    <tr>\n",
       "      <th>1</th>\n",
       "      <td>1</td>\n",
       "      <td>Spain</td>\n",
       "      <td>Ripe aromas of fig, blackberry and cassis are ...</td>\n",
       "      <td>Carodorum Selección Especial Reserva</td>\n",
       "      <td>96</td>\n",
       "      <td>110.0</td>\n",
       "      <td>Northern Spain</td>\n",
       "      <td>Toro</td>\n",
       "      <td>NaN</td>\n",
       "      <td>Tinta de Toro</td>\n",
       "      <td>Bodega Carmen Rodríguez</td>\n",
       "    </tr>\n",
       "    <tr>\n",
       "      <th>2</th>\n",
       "      <td>2</td>\n",
       "      <td>US</td>\n",
       "      <td>Mac Watson honors the memory of a wine once ma...</td>\n",
       "      <td>Special Selected Late Harvest</td>\n",
       "      <td>96</td>\n",
       "      <td>90.0</td>\n",
       "      <td>California</td>\n",
       "      <td>Knights Valley</td>\n",
       "      <td>Sonoma</td>\n",
       "      <td>Sauvignon Blanc</td>\n",
       "      <td>Macauley</td>\n",
       "    </tr>\n",
       "    <tr>\n",
       "      <th>3</th>\n",
       "      <td>3</td>\n",
       "      <td>US</td>\n",
       "      <td>This spent 20 months in 30% new French oak, an...</td>\n",
       "      <td>Reserve</td>\n",
       "      <td>96</td>\n",
       "      <td>65.0</td>\n",
       "      <td>Oregon</td>\n",
       "      <td>Willamette Valley</td>\n",
       "      <td>Willamette Valley</td>\n",
       "      <td>Pinot Noir</td>\n",
       "      <td>Ponzi</td>\n",
       "    </tr>\n",
       "    <tr>\n",
       "      <th>4</th>\n",
       "      <td>4</td>\n",
       "      <td>France</td>\n",
       "      <td>This is the top wine from La Bégude, named aft...</td>\n",
       "      <td>La Brûlade</td>\n",
       "      <td>95</td>\n",
       "      <td>66.0</td>\n",
       "      <td>Provence</td>\n",
       "      <td>Bandol</td>\n",
       "      <td>NaN</td>\n",
       "      <td>Provence red blend</td>\n",
       "      <td>Domaine de la Bégude</td>\n",
       "    </tr>\n",
       "  </tbody>\n",
       "</table>\n",
       "</div>"
      ],
      "text/plain": [
       "   Unnamed: 0 country                                        description  \\\n",
       "0           0      US  This tremendous 100% varietal wine hails from ...   \n",
       "1           1   Spain  Ripe aromas of fig, blackberry and cassis are ...   \n",
       "2           2      US  Mac Watson honors the memory of a wine once ma...   \n",
       "3           3      US  This spent 20 months in 30% new French oak, an...   \n",
       "4           4  France  This is the top wine from La Bégude, named aft...   \n",
       "\n",
       "                            designation  points  price        province  \\\n",
       "0                     Martha's Vineyard      96  235.0      California   \n",
       "1  Carodorum Selección Especial Reserva      96  110.0  Northern Spain   \n",
       "2         Special Selected Late Harvest      96   90.0      California   \n",
       "3                               Reserve      96   65.0          Oregon   \n",
       "4                            La Brûlade      95   66.0        Provence   \n",
       "\n",
       "            region_1           region_2             variety  \\\n",
       "0        Napa Valley               Napa  Cabernet Sauvignon   \n",
       "1               Toro                NaN       Tinta de Toro   \n",
       "2     Knights Valley             Sonoma     Sauvignon Blanc   \n",
       "3  Willamette Valley  Willamette Valley          Pinot Noir   \n",
       "4             Bandol                NaN  Provence red blend   \n",
       "\n",
       "                    winery  \n",
       "0                    Heitz  \n",
       "1  Bodega Carmen Rodríguez  \n",
       "2                 Macauley  \n",
       "3                    Ponzi  \n",
       "4     Domaine de la Bégude  "
      ]
     },
     "execution_count": 2,
     "metadata": {},
     "output_type": "execute_result"
    }
   ],
   "source": [
    "df = pd.read_csv('../input/winemag-data_first150k.csv')\n",
    "df.head()"
   ]
  },
  {
   "cell_type": "code",
   "execution_count": 3,
   "metadata": {},
   "outputs": [],
   "source": [
    "# add some relevant data\n",
    "df['description_length'] = df.description.apply(lambda x: len(re.findall(\"(\\S+)\", x)))"
   ]
  },
  {
   "cell_type": "code",
   "execution_count": 4,
   "metadata": {},
   "outputs": [
    {
     "data": {
      "text/plain": [
       "<matplotlib.axes._subplots.AxesSubplot at 0x1563be2bd68>"
      ]
     },
     "execution_count": 4,
     "metadata": {},
     "output_type": "execute_result"
    },
    {
     "data": {
      "image/png": "[encoded data removed]",
      "text/plain": [
       "<Figure size 432x288 with 1 Axes>"
      ]
     },
     "metadata": {
      "needs_background": "light"
     },
     "output_type": "display_data"
    }
   ],
   "source": [
    "df.description_length.plot.kde(xlim=(0,120))"
   ]
  },
  {
   "cell_type": "code",
   "execution_count": 5,
   "metadata": {},
   "outputs": [
    {
     "data": {
      "text/plain": [
       "<matplotlib.axes._subplots.AxesSubplot at 0x1563c131438>"
      ]
     },
     "execution_count": 5,
     "metadata": {},
     "output_type": "execute_result"
    },
    {
     "data": {
      "image/png": "[encoded data removed]",
      "text/plain": [
       "<Figure size 432x288 with 2 Axes>"
      ]
     },
     "metadata": {
      "needs_background": "light"
     },
     "output_type": "display_data"
    }
   ],
   "source": [
    "df.plot.hexbin('description_length', 'points', gridsize=20)"
   ]
  },
  {
   "cell_type": "code",
   "execution_count": 6,
   "metadata": {},
   "outputs": [],
   "source": [
    "description_list = df.description.tolist()"
   ]
  },
  {
   "cell_type": "code",
   "execution_count": 7,
   "metadata": {},
   "outputs": [],
   "source": [
    "def get_first_two_words(mystring:str):\n",
    "    mylist = mystring.split(\" \")\n",
    "    return mylist[0], mylist[1] \n",
    "\n",
    "def make_prefix_dict(words:list):\n",
    "    prefix = {}\n",
    "    for i in range(len(words)-2):\n",
    "        if (words[i], words[i+1]) not in prefix:\n",
    "            prefix[(words[i], words[i+1])] = []\n",
    "        prefix[(words[i], words[i+1])].append(words[i+2])\n",
    "    return prefix\n",
    "    \n",
    "class AI_Sommelier():\n",
    "    \n",
    "    def __init__(self, descriptions:list, subset=100):\n",
    "        if subset:\n",
    "            self.descriptions = descriptions[:subset]\n",
    "        self.description_starts = [get_first_two_words(d) for d in self.descriptions]\n",
    "        self.description_lengths = [len(re.findall(\"(\\S+)\", d)) for d in self.descriptions]\n",
    "        self.description_words = ' '.join(self.descriptions)\n",
    "        # NOTE - it's better at least for now to leave in punctuation rather than strip it\n",
    "        # self.description_words = ''.join([x + '' for x in self.descriptions if x in string.ascii_letters  + '\\'- '])\n",
    "        self.words = self.description_words.split(\" \")\n",
    "        self.prefix = make_prefix_dict(self.words)\n",
    "        \n",
    "    def sample_review(self, seed=0):\n",
    "        random.seed(seed)\n",
    "        return random.choice(self.descriptions)\n",
    "        \n",
    "    def write_review(self, seed=0):\n",
    "        random.seed(seed)\n",
    "        # Note - currently these lengths will be longer than real review, because\n",
    "        # review lenghts are being assigned to min_length\n",
    "        min_words = random.choice(self.description_lengths)\n",
    "        \n",
    "        current_pair = random.choice(self.description_starts)\n",
    "        random_text = current_pair[0] + ' ' + current_pair[1]\n",
    "\n",
    "        i = 2 #already have two words\n",
    "        uncompleted = True\n",
    "        while uncompleted:\n",
    "            # last two words in document may not have a suffix\n",
    "            if current_pair not in self.prefix:\n",
    "                break\n",
    "            next_word = random.choice(self.prefix[current_pair])\n",
    "            # make sure we end with a (somewhat) complete sentence\n",
    "            if i >= min_words:\n",
    "                if '.' in next_word: uncompleted = False\n",
    "            random_text = random_text + ' ' + next_word\n",
    "            current_pair = (current_pair[1], next_word)\n",
    "            i += 1\n",
    "\n",
    "        return random_text\n",
    "        "
   ]
  },
  {
   "cell_type": "code",
   "execution_count": 8,
   "metadata": {},
   "outputs": [],
   "source": [
    "sommelier = AI_Sommelier(description_list, subset=10_000)"
   ]
  },
  {
   "cell_type": "markdown",
   "metadata": {},
   "source": [
    "# Compare random samples and markov generation"
   ]
  },
  {
   "cell_type": "code",
   "execution_count": 9,
   "metadata": {},
   "outputs": [
    {
     "name": "stdout",
     "output_type": "stream",
     "text": [
      "SAMPLE REVIEW \n",
      " Graphite, maple and other oaky aromas dominate this lush, pitch-black Tinto Fino. A chewy, dense mouthfeel is rich as an oil baron, while oak-driven flavors of vanilla and baking spices accent blackberry and cassis. On the finish, this is monster-sized and full of blue-fruit deliciousness. Drink through 2020. \n",
      "\n",
      "GENERATE REVIEW \n",
      " Josmeyer's organic wines give a lot of enjoyment. This wine made by refermenting with partially dried grapes, this is firm, juicy palate delivers wild cherry, ripe strawberry, providing a soft, rich mouthfeel coats the fresh fruitiness of the vintage. Drink this powerful and concentrated, the finish this is light in color and ripe berries suffuse the palate, spicing up the strawberry, blueberry and plum. \n",
      "\n",
      "SAMPLE REVIEW \n",
      " This is attractive in a bright, fruit-driven style. Bright berry fruit is tinged with apricot and cocoa on the midpalate, then finishes firm and dusty. \n",
      "\n",
      "GENERATE REVIEW \n",
      " This wine features an enticing floral character, this is Jim Barry's luxury cuvée of Cabenet Sauvignon. It has raspberry flavors finish tangy and nervy, bringing a generous texture, although a tad tarry, with cooked blackberry and cassis include a sweet Gewurztraminer, almost a shade of green, underripe Cabernet. \n",
      "\n",
      "SAMPLE REVIEW \n",
      " This is one of the most beloved Chardonnays from Santa Barbara County, and for good reason: Bryan Babcock manages to imbue his wine with buttery richness yet also balance it with acidity and smoke. Honeysuckle, almond and Gravenstein apple aromas lead into energetic yet creamy marshmallow and poached pear flavors, all cut with citrusy acidity. \n",
      "\n",
      "GENERATE REVIEW \n",
      " Freshly cut quince, guava, lemongrass and key lime pie aromas kick off the surface of ripe berry, grilled herb, toasted nut alongside tightly packed tannins. Aromas include white spring flowers, Red Delicious apples, Bartlett pear and apricot that are cut by a lightly herbal wine. It is a dry and crisp in acidity the focus. It needs medium-term aging, so drink now. \n",
      "\n",
      "SAMPLE REVIEW \n",
      " Rose, violet, wild berry and menthol aromas unfold in the glass. The bracing palate offers dried black cherry, licorice and clove alongside assertive, close-grained tannins that leave a mouth-puckering finish. Drink after 2020. \n",
      "\n",
      "GENERATE REVIEW \n",
      " From slopes above the famous Westside Road-adjacent vineyard in the glass, this wine is made up for parties or all your midweek meals. Fresh, lively and also finely textured. Valentino is part of a blackberry stalkiness in the glass. \n",
      "\n"
     ]
    }
   ],
   "source": [
    "for i in range(0,4):\n",
    "    print(f'SAMPLE REVIEW \\n {sommelier.sample_review(seed=i)} \\n')\n",
    "    print(f'GENERATE REVIEW \\n {sommelier.write_review(seed=i)} \\n')"
   ]
  },
  {
   "cell_type": "code",
   "execution_count": null,
   "metadata": {},
   "outputs": [],
   "source": []
  },
  {
   "cell_type": "markdown",
   "metadata": {},
   "source": [
    "# Prefix Investigation\n",
    "- What are some common and rare prefixes (ie, where is the branching occuring)\n",
    "- How does the word mapping change with increaing # of training examples? \n",
    "- What percentage are \"stubs\" (ie, the prefix only has one suffix)\n",
    "- What is the mean suffix percentage"
   ]
  },
  {
   "cell_type": "code",
   "execution_count": 10,
   "metadata": {},
   "outputs": [],
   "source": [
    "def make_prefix_dataframe(prefix:dict):\n",
    "    df_prefix = pd.DataFrame(columns=['prefix', 'suffix'])\n",
    "    df_prefix['prefix'] = prefix.keys()\n",
    "    df_prefix['suffix'] = prefix.values()\n",
    "    df_prefix['suffix_length'] = df_prefix.suffix.apply(lambda x: len(x))\n",
    "    return df_prefix"
   ]
  },
  {
   "cell_type": "markdown",
   "metadata": {},
   "source": [
    "### It seems that a lot of branching is happening before nouns or adjectives, which makes sense"
   ]
  },
  {
   "cell_type": "code",
   "execution_count": 11,
   "metadata": {},
   "outputs": [
    {
     "data": {
      "text/html": [
       "<div>\n",
       "<style scoped>\n",
       "    .dataframe tbody tr th:only-of-type {\n",
       "        vertical-align: middle;\n",
       "    }\n",
       "\n",
       "    .dataframe tbody tr th {\n",
       "        vertical-align: top;\n",
       "    }\n",
       "\n",
       "    .dataframe thead th {\n",
       "        text-align: right;\n",
       "    }\n",
       "</style>\n",
       "<table border=\"1\" class=\"dataframe\">\n",
       "  <thead>\n",
       "    <tr style=\"text-align: right;\">\n",
       "      <th></th>\n",
       "      <th>index</th>\n",
       "      <th>prefix</th>\n",
       "      <th>suffix</th>\n",
       "      <th>suffix_length</th>\n",
       "    </tr>\n",
       "  </thead>\n",
       "  <tbody>\n",
       "    <tr>\n",
       "      <th>0</th>\n",
       "      <td>85</td>\n",
       "      <td>(on, the)</td>\n",
       "      <td>[palate,, palate, palate,, lees, velvety, prop...</td>\n",
       "      <td>2393</td>\n",
       "    </tr>\n",
       "    <tr>\n",
       "      <th>1</th>\n",
       "      <td>19</td>\n",
       "      <td>(and, a)</td>\n",
       "      <td>[compelling, subtle, lemony, complex, whiff, w...</td>\n",
       "      <td>1878</td>\n",
       "    </tr>\n",
       "    <tr>\n",
       "      <th>2</th>\n",
       "      <td>335</td>\n",
       "      <td>(with, a)</td>\n",
       "      <td>[hint, burst, menthol-like, warm, warm,, dash,...</td>\n",
       "      <td>1563</td>\n",
       "    </tr>\n",
       "    <tr>\n",
       "      <th>3</th>\n",
       "      <td>269</td>\n",
       "      <td>(is, a)</td>\n",
       "      <td>[wine, winner., key, wine, major, magnificent,...</td>\n",
       "      <td>1350</td>\n",
       "    </tr>\n",
       "    <tr>\n",
       "      <th>4</th>\n",
       "      <td>60</td>\n",
       "      <td>(aromas, of)</td>\n",
       "      <td>[fig,, grilled, black-olive, hazelnut, scorche...</td>\n",
       "      <td>1192</td>\n",
       "    </tr>\n",
       "  </tbody>\n",
       "</table>\n",
       "</div>"
      ],
      "text/plain": [
       "   index        prefix                                             suffix  \\\n",
       "0     85     (on, the)  [palate,, palate, palate,, lees, velvety, prop...   \n",
       "1     19      (and, a)  [compelling, subtle, lemony, complex, whiff, w...   \n",
       "2    335     (with, a)  [hint, burst, menthol-like, warm, warm,, dash,...   \n",
       "3    269       (is, a)  [wine, winner., key, wine, major, magnificent,...   \n",
       "4     60  (aromas, of)  [fig,, grilled, black-olive, hazelnut, scorche...   \n",
       "\n",
       "   suffix_length  \n",
       "0           2393  \n",
       "1           1878  \n",
       "2           1563  \n",
       "3           1350  \n",
       "4           1192  "
      ]
     },
     "execution_count": 11,
     "metadata": {},
     "output_type": "execute_result"
    }
   ],
   "source": [
    "sommelier = AI_Sommelier(description_list, subset=10000)\n",
    "df_prefix = make_prefix_dataframe(sommelier.prefix)\n",
    "prefix_sorted = df_prefix.sort_values('suffix_length', ascending=False).reset_index()\n",
    "prefix_sorted.head()"
   ]
  },
  {
   "cell_type": "code",
   "execution_count": 12,
   "metadata": {},
   "outputs": [
    {
     "data": {
      "text/html": [
       "<div>\n",
       "<style scoped>\n",
       "    .dataframe tbody tr th:only-of-type {\n",
       "        vertical-align: middle;\n",
       "    }\n",
       "\n",
       "    .dataframe tbody tr th {\n",
       "        vertical-align: top;\n",
       "    }\n",
       "\n",
       "    .dataframe thead th {\n",
       "        text-align: right;\n",
       "    }\n",
       "</style>\n",
       "<table border=\"1\" class=\"dataframe\">\n",
       "  <thead>\n",
       "    <tr style=\"text-align: right;\">\n",
       "      <th></th>\n",
       "      <th>index</th>\n",
       "      <th>prefix</th>\n",
       "      <th>suffix</th>\n",
       "      <th>suffix_length</th>\n",
       "    </tr>\n",
       "  </thead>\n",
       "  <tbody>\n",
       "    <tr>\n",
       "      <th>133232</th>\n",
       "      <td>69850</td>\n",
       "      <td>(fairly, complex)</td>\n",
       "      <td>[on]</td>\n",
       "      <td>1</td>\n",
       "    </tr>\n",
       "    <tr>\n",
       "      <th>133233</th>\n",
       "      <td>69849</td>\n",
       "      <td>(yeasty, flavors,)</td>\n",
       "      <td>[while]</td>\n",
       "      <td>1</td>\n",
       "    </tr>\n",
       "    <tr>\n",
       "      <th>133234</th>\n",
       "      <td>69848</td>\n",
       "      <td>(briny, apple,)</td>\n",
       "      <td>[nectarine]</td>\n",
       "      <td>1</td>\n",
       "    </tr>\n",
       "    <tr>\n",
       "      <th>133235</th>\n",
       "      <td>20367</td>\n",
       "      <td>(feel,, tapering)</td>\n",
       "      <td>[on]</td>\n",
       "      <td>1</td>\n",
       "    </tr>\n",
       "    <tr>\n",
       "      <th>133236</th>\n",
       "      <td>133236</td>\n",
       "      <td>(like, strawberry)</td>\n",
       "      <td>[jam.]</td>\n",
       "      <td>1</td>\n",
       "    </tr>\n",
       "  </tbody>\n",
       "</table>\n",
       "</div>"
      ],
      "text/plain": [
       "         index              prefix       suffix  suffix_length\n",
       "133232   69850   (fairly, complex)         [on]              1\n",
       "133233   69849  (yeasty, flavors,)      [while]              1\n",
       "133234   69848     (briny, apple,)  [nectarine]              1\n",
       "133235   20367   (feel,, tapering)         [on]              1\n",
       "133236  133236  (like, strawberry)       [jam.]              1"
      ]
     },
     "execution_count": 12,
     "metadata": {},
     "output_type": "execute_result"
    }
   ],
   "source": [
    "prefix_sorted.tail()"
   ]
  },
  {
   "cell_type": "code",
   "execution_count": 13,
   "metadata": {},
   "outputs": [],
   "source": [
    "def compare_prefix_dataframes(subsets=[100,1000]):\n",
    "    df_compare = pd.DataFrame(columns=['subset', 'suffix_length_mean', 'suffix_stub_perc'], index=range(0,len(subsets)))\n",
    "    for i, s in enumerate(subsets):\n",
    "        sommelier = AI_Sommelier(description_list, subset=s)\n",
    "        df_prefix = make_prefix_dataframe(sommelier.prefix)\n",
    "        df_compare.loc[i, 'subset'] = s\n",
    "        df_compare.loc[i, 'suffix_length_mean'] = df_prefix.suffix_length.mean()\n",
    "        df_compare.loc[i, 'suffix_stub_perc'] = len(df_prefix.loc[df_prefix[\"suffix_length\"] == 1]) / len(df_prefix) * 100\n",
    "    return df_compare"
   ]
  },
  {
   "cell_type": "markdown",
   "metadata": {},
   "source": [
    "### The percentage of prefixes that are \"stubs\" (ie, only have one prefix) decreases steadily, while mean suffix length increases"
   ]
  },
  {
   "cell_type": "code",
   "execution_count": 14,
   "metadata": {},
   "outputs": [
    {
     "data": {
      "text/html": [
       "<div>\n",
       "<style scoped>\n",
       "    .dataframe tbody tr th:only-of-type {\n",
       "        vertical-align: middle;\n",
       "    }\n",
       "\n",
       "    .dataframe tbody tr th {\n",
       "        vertical-align: top;\n",
       "    }\n",
       "\n",
       "    .dataframe thead th {\n",
       "        text-align: right;\n",
       "    }\n",
       "</style>\n",
       "<table border=\"1\" class=\"dataframe\">\n",
       "  <thead>\n",
       "    <tr style=\"text-align: right;\">\n",
       "      <th></th>\n",
       "      <th>subset</th>\n",
       "      <th>suffix_length_mean</th>\n",
       "      <th>suffix_stub_perc</th>\n",
       "    </tr>\n",
       "  </thead>\n",
       "  <tbody>\n",
       "    <tr>\n",
       "      <th>0</th>\n",
       "      <td>100</td>\n",
       "      <td>1.26023</td>\n",
       "      <td>88.0702</td>\n",
       "    </tr>\n",
       "    <tr>\n",
       "      <th>1</th>\n",
       "      <td>1000</td>\n",
       "      <td>1.7817</td>\n",
       "      <td>77.3152</td>\n",
       "    </tr>\n",
       "    <tr>\n",
       "      <th>2</th>\n",
       "      <td>10000</td>\n",
       "      <td>3.01894</td>\n",
       "      <td>68.8668</td>\n",
       "    </tr>\n",
       "    <tr>\n",
       "      <th>3</th>\n",
       "      <td>50000</td>\n",
       "      <td>4.52275</td>\n",
       "      <td>62.8098</td>\n",
       "    </tr>\n",
       "    <tr>\n",
       "      <th>4</th>\n",
       "      <td>100000</td>\n",
       "      <td>5.97589</td>\n",
       "      <td>53.1724</td>\n",
       "    </tr>\n",
       "    <tr>\n",
       "      <th>5</th>\n",
       "      <td>150000</td>\n",
       "      <td>7.57016</td>\n",
       "      <td>41.5606</td>\n",
       "    </tr>\n",
       "  </tbody>\n",
       "</table>\n",
       "</div>"
      ],
      "text/plain": [
       "   subset suffix_length_mean suffix_stub_perc\n",
       "0     100            1.26023          88.0702\n",
       "1    1000             1.7817          77.3152\n",
       "2   10000            3.01894          68.8668\n",
       "3   50000            4.52275          62.8098\n",
       "4  100000            5.97589          53.1724\n",
       "5  150000            7.57016          41.5606"
      ]
     },
     "execution_count": 14,
     "metadata": {},
     "output_type": "execute_result"
    }
   ],
   "source": [
    "df_compare = compare_prefix_dataframes(subsets=[100, 1000, 10_000, 50_000, 100_000, 150_000])\n",
    "df_compare"
   ]
  },
  {
   "cell_type": "code",
   "execution_count": 15,
   "metadata": {},
   "outputs": [
    {
     "data": {
      "text/plain": [
       "[<matplotlib.lines.Line2D at 0x1563c076860>]"
      ]
     },
     "execution_count": 15,
     "metadata": {},
     "output_type": "execute_result"
    },
    {
     "data": {
      "image/png": "[encoded data removed]",
      "text/plain": [
       "<Figure size 432x288 with 1 Axes>"
      ]
     },
     "metadata": {
      "needs_background": "light"
     },
     "output_type": "display_data"
    }
   ],
   "source": [
    "plt.plot(df_compare.subset, df_compare.suffix_length_mean)\n",
    "plt.plot(df_compare.subset, df_compare.suffix_stub_perc)"
   ]
  },
  {
   "cell_type": "markdown",
   "metadata": {},
   "source": [
    "### The distributions shift as expected as more training examples are used"
   ]
  },
  {
   "cell_type": "code",
   "execution_count": 16,
   "metadata": {},
   "outputs": [
    {
     "data": {
      "text/plain": [
       "<matplotlib.axes._subplots.AxesSubplot at 0x15649224b00>"
      ]
     },
     "execution_count": 16,
     "metadata": {},
     "output_type": "execute_result"
    },
    {
     "data": {
      "image/png": "[encoded data removed]",
      "text/plain": [
       "<Figure size 432x288 with 1 Axes>"
      ]
     },
     "metadata": {
      "needs_background": "light"
     },
     "output_type": "display_data"
    }
   ],
   "source": [
    "sommelier = AI_Sommelier(description_list, subset=1000)\n",
    "df_prefix = make_prefix_dataframe(sommelier.prefix)\n",
    "df_prefix.suffix_length.plot.kde(xlim=(0,30))"
   ]
  },
  {
   "cell_type": "code",
   "execution_count": 17,
   "metadata": {},
   "outputs": [
    {
     "data": {
      "text/plain": [
       "<matplotlib.axes._subplots.AxesSubplot at 0x1565dbcf4e0>"
      ]
     },
     "execution_count": 17,
     "metadata": {},
     "output_type": "execute_result"
    },
    {
     "data": {
      "image/png": "[encoded data removed]",
      "text/plain": [
       "<Figure size 432x288 with 1 Axes>"
      ]
     },
     "metadata": {
      "needs_background": "light"
     },
     "output_type": "display_data"
    }
   ],
   "source": [
    "sommelier = AI_Sommelier(description_list, subset=10_000)\n",
    "df_prefix = make_prefix_dataframe(sommelier.prefix)\n",
    "df_prefix.suffix_length.plot.kde(xlim=(0,30))"
   ]
  },
  {
   "cell_type": "code",
   "execution_count": null,
   "metadata": {},
   "outputs": [],
   "source": []
  }
 ],
 "metadata": {
  "kernelspec": {
   "display_name": "Python 3",
   "language": "python",
   "name": "python3"
  },
  "language_info": {
   "codemirror_mode": {
    "name": "ipython",
    "version": 3
   },
   "file_extension": ".py",
   "mimetype": "text/x-python",
   "name": "python",
   "nbconvert_exporter": "python",
   "pygments_lexer": "ipython3",
   "version": "3.6.6"
  }
 },
 "nbformat": 4,
 "nbformat_minor": 2
}
